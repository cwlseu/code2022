{
 "cells": [
  {
   "cell_type": "code",
   "execution_count": 1,
   "id": "fe577b00",
   "metadata": {},
   "outputs": [],
   "source": [
    "import numpy as np\n",
    "\n",
    "def viterbi_decode(score, transition_params):\n",
    "    \"\"\"Decode the highest scoring sequence of tags outside of TensorFlow.\n",
    "    This should only be used at test time.\n",
    "\n",
    "    Args:\n",
    "        score: A [seq_len, num_tags] matrix of unary potentials.\n",
    "        transition_params: A [num_tags, num_tags] matrix of binary potentials.\n",
    "\n",
    "    Returns:\n",
    "        viterbi: A [seq_len] list of integers containing the highest scoring tag\n",
    "                indices.\n",
    "        viterbi_score: A float containing the score for the Viterbi sequence.\n",
    "    \"\"\"\n",
    "    # 用于存储累计分数的数组\n",
    "    trellis = np.zeros_like(score)\n",
    "    # 用于存储最优路径索引的数组\n",
    "    backpointers = np.zeros_like(score, dtype=np.int32)\n",
    "    # 第一个时刻的累计分数\n",
    "    trellis[0] = score[0]\n",
    "\n",
    "    for t in range(1, score.shape[0]):\n",
    "        # 各个状态截止到上个时刻的累计分数 + 转移分数\n",
    "        v = np.expand_dims(trellis[t - 1], 1) + transition_params\n",
    "        # max（各个状态截止到上个时刻的累计分数 + 转移分数）+ 选择当前状态的分数\n",
    "        trellis[t] = score[t] + np.max(v, 0)\n",
    "        # 记录累计分数最大的索引\n",
    "        backpointers[t] = np.argmax(v, 0)\n",
    "\n",
    "    # 最优路径的结果\n",
    "    viterbi = [np.argmax(trellis[-1])]\n",
    "    # 反向遍历每个时刻，得到最优路径\n",
    "    for bp in reversed(backpointers[1:]):\n",
    "        viterbi.append(bp[viterbi[-1]])\n",
    "    viterbi.reverse()\n",
    "\n",
    "    viterbi_score = np.max(trellis[-1])\n",
    "    return viterbi, viterbi_score"
   ]
  },
  {
   "cell_type": "code",
   "execution_count": 16,
   "id": "b9558613",
   "metadata": {},
   "outputs": [],
   "source": [
    "num_tag = 20\n",
    "score = np.random.rand(25, num_tag)"
   ]
  },
  {
   "cell_type": "code",
   "execution_count": 17,
   "id": "8159f492",
   "metadata": {},
   "outputs": [],
   "source": [
    "transition_params = np.random.rand(num_tag, num_tag)"
   ]
  },
  {
   "cell_type": "code",
   "execution_count": 18,
   "id": "59607d1d",
   "metadata": {},
   "outputs": [],
   "source": [
    "viterbi, score = viterbi_decode(score, transition_params)"
   ]
  },
  {
   "cell_type": "code",
   "execution_count": 19,
   "id": "8d097c05",
   "metadata": {},
   "outputs": [
    {
     "name": "stdout",
     "output_type": "stream",
     "text": [
      "[16, 5, 0, 12, 3, 3, 3, 3, 15, 15, 4, 0, 4, 8, 1, 7, 19, 1, 7, 8, 7, 3, 15, 4, 0] 42.99475719692441\n"
     ]
    }
   ],
   "source": [
    "print(viterbi, score)"
   ]
  },
  {
   "cell_type": "code",
   "execution_count": null,
   "id": "6e907a3d",
   "metadata": {},
   "outputs": [],
   "source": []
  }
 ],
 "metadata": {
  "kernelspec": {
   "display_name": "Python 3",
   "language": "python",
   "name": "python3"
  },
  "language_info": {
   "codemirror_mode": {
    "name": "ipython",
    "version": 3
   },
   "file_extension": ".py",
   "mimetype": "text/x-python",
   "name": "python",
   "nbconvert_exporter": "python",
   "pygments_lexer": "ipython3",
   "version": "3.6.13"
  }
 },
 "nbformat": 4,
 "nbformat_minor": 5
}
