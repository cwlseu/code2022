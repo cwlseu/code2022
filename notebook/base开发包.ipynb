{
 "cells": [
  {
   "cell_type": "markdown",
   "id": "f8ee8639",
   "metadata": {},
   "source": [
    "## numpy基本用法"
   ]
  },
  {
   "cell_type": "code",
   "execution_count": null,
   "id": "76e9fe55",
   "metadata": {},
   "outputs": [],
   "source": [
    "import numpy as np"
   ]
  },
  {
   "cell_type": "code",
   "execution_count": 2,
   "id": "8a7e819b",
   "metadata": {},
   "outputs": [],
   "source": [
    "li = [\n",
    "    [1, 2, -4],\n",
    "    [-2, 2, 1],\n",
    "    [-3, 4, -2],\n",
    "]\n"
   ]
  },
  {
   "cell_type": "code",
   "execution_count": 4,
   "id": "7d49c93d",
   "metadata": {},
   "outputs": [],
   "source": [
    "matrix = np.array(li, dtype=np.str)"
   ]
  },
  {
   "cell_type": "code",
   "execution_count": 5,
   "id": "7ed9ac94",
   "metadata": {},
   "outputs": [
    {
     "data": {
      "text/plain": [
       "array([['1', '2', '-4'],\n",
       "       ['-2', '2', '1'],\n",
       "       ['-3', '4', '-2']], dtype='<U2')"
      ]
     },
     "execution_count": 5,
     "metadata": {},
     "output_type": "execute_result"
    }
   ],
   "source": [
    "matrix"
   ]
  },
  {
   "cell_type": "code",
   "execution_count": 6,
   "id": "f64dfa83",
   "metadata": {},
   "outputs": [
    {
     "name": "stdout",
     "output_type": "stream",
     "text": [
      "matrix: [['1' '2' '-4']\n",
      " ['-2' '2' '1']\n",
      " ['-3' '4' '-2']]\n",
      "matrix type: <class 'numpy.ndarray'>\n",
      "matrix 维度:: 2\n",
      "matrix 行列:: (3, 3)\n",
      "matrix 元素个数:: 9\n"
     ]
    }
   ],
   "source": [
    "print(\"matrix:\", matrix)\n",
    "print(\"matrix type:\", type(matrix))   # <class 'numpy.ndarray'>  numpy的n维数组\n",
    "\n",
    "print(\"matrix 维度:\", matrix.ndim)\n",
    "print(\"matrix 行列:\", matrix.shape)\n",
    "print(\"matrix 元素个数:\", matrix.size)"
   ]
  },
  {
   "cell_type": "code",
   "execution_count": 7,
   "id": "7602e069",
   "metadata": {},
   "outputs": [
    {
     "name": "stdout",
     "output_type": "stream",
     "text": [
      "0矩阵：zero: [[0 0 0 0]\n",
      " [0 0 0 0]\n",
      " [0 0 0 0]]\n"
     ]
    }
   ],
   "source": [
    "# 创建0矩阵\n",
    "zero = np.zeros([3, 4], dtype=np.int)\n",
    "print(\"0矩阵：zero:\", zero)"
   ]
  },
  {
   "cell_type": "code",
   "execution_count": 8,
   "id": "9b9c627f",
   "metadata": {},
   "outputs": [
    {
     "name": "stdout",
     "output_type": "stream",
     "text": [
      "[[1 1 1 1]\n",
      " [1 1 1 1]]\n"
     ]
    }
   ],
   "source": [
    "# 创建全1矩阵\n",
    "one = np.ones([2, 4], dtype=int)\n",
    "print(one)\n"
   ]
  },
  {
   "cell_type": "code",
   "execution_count": 9,
   "id": "42c5dd51",
   "metadata": {},
   "outputs": [
    {
     "name": "stdout",
     "output_type": "stream",
     "text": [
      "[[0.00e+000 0.00e+000 0.00e+000]\n",
      " [0.00e+000 0.00e+000 6.82e-321]\n",
      " [0.00e+000 0.00e+000 0.00e+000]]\n"
     ]
    }
   ],
   "source": [
    "# 创建全空数组，每个数都接近0\n",
    "empty = np.empty([3, 3], )\n",
    "print(empty)"
   ]
  },
  {
   "cell_type": "code",
   "execution_count": 11,
   "id": "4b1bb9ef",
   "metadata": {},
   "outputs": [
    {
     "name": "stdout",
     "output_type": "stream",
     "text": [
      "连续数组 [ 1  3  5  7  9 11 13]\n"
     ]
    }
   ],
   "source": [
    "a  = np.arange(1,14,2)\n",
    "print(\"连续数组\", a)"
   ]
  },
  {
   "cell_type": "code",
   "execution_count": 22,
   "id": "3ffe87d0",
   "metadata": {},
   "outputs": [
    {
     "name": "stdout",
     "output_type": "stream",
     "text": [
      "改变形状: [[ 0  1  2  3]\n",
      " [ 4  5  6  7]\n",
      " [ 8  9 10 11]]\n"
     ]
    }
   ],
   "source": [
    "b = np.arange(12).reshape((3,4))\n",
    "print(\"改变形状:\", b)"
   ]
  },
  {
   "cell_type": "code",
   "execution_count": 23,
   "id": "ce5e88d0",
   "metadata": {},
   "outputs": [
    {
     "name": "stdout",
     "output_type": "stream",
     "text": [
      "[ 1.          1.47368421  1.94736842  2.42105263  2.89473684  3.36842105\n",
      "  3.84210526  4.31578947  4.78947368  5.26315789  5.73684211  6.21052632\n",
      "  6.68421053  7.15789474  7.63157895  8.10526316  8.57894737  9.05263158\n",
      "  9.52631579 10.        ]\n"
     ]
    }
   ],
   "source": [
    "line_array = np.linspace(1, 10, 20)\n",
    "print(line_array)\n"
   ]
  },
  {
   "cell_type": "code",
   "execution_count": 27,
   "id": "ff951e15",
   "metadata": {},
   "outputs": [
    {
     "name": "stdout",
     "output_type": "stream",
     "text": [
      "[[ 1.          1.47368421  1.94736842  2.42105263]\n",
      " [ 2.89473684  3.36842105  3.84210526  4.31578947]\n",
      " [ 4.78947368  5.26315789  5.73684211  6.21052632]\n",
      " [ 6.68421053  7.15789474  7.63157895  8.10526316]\n",
      " [ 8.57894737  9.05263158  9.52631579 10.        ]]\n"
     ]
    }
   ],
   "source": [
    "# 线段形数组进行reshap\n",
    "print(np.linspace(1, 10, 20).reshape(-1, 4))"
   ]
  },
  {
   "cell_type": "code",
   "execution_count": 26,
   "id": "81009f93",
   "metadata": {},
   "outputs": [
    {
     "name": "stdout",
     "output_type": "stream",
     "text": [
      "[ 97  98  99 100 101 102]\n",
      "[[ 97]\n",
      " [ 98]\n",
      " [ 99]\n",
      " [100]\n",
      " [101]\n",
      " [102]]\n"
     ]
    },
    {
     "name": "stderr",
     "output_type": "stream",
     "text": [
      "D:\\Dev\\Anaconda\\envs\\nlp\\Lib\\site-packages\\ipykernel_launcher.py:2: DeprecationWarning: The binary mode of fromstring is deprecated, as it behaves surprisingly on unicode inputs. Use frombuffer instead\n",
      "  \n"
     ]
    }
   ],
   "source": [
    "st = \"abcdef\"\n",
    "res = np.fromstring(st, dtype=np.int8)\n",
    "print(res)\n",
    "res2 = res.reshape(-1, 1)\n",
    "print(res2)"
   ]
  },
  {
   "cell_type": "code",
   "execution_count": 30,
   "id": "12a535cf",
   "metadata": {},
   "outputs": [
    {
     "name": "stdout",
     "output_type": "stream",
     "text": [
      "[[ 1.          1.47368421  1.94736842  2.42105263]\n",
      " [ 2.89473684  3.36842105  3.84210526  4.31578947]\n",
      " [ 4.78947368  5.26315789  5.73684211  6.21052632]\n",
      " [ 6.68421053  7.15789474  7.63157895  8.10526316]\n",
      " [ 8.57894737  9.05263158  9.52631579 10.        ]]\n",
      "[[ 4.31578947  3.84210526  3.36842105  2.89473684]\n",
      " [ 6.21052632  5.73684211  5.26315789  4.78947368]\n",
      " [ 8.10526316  7.63157895  7.15789474  6.68421053]\n",
      " [10.          9.52631579  9.05263158  8.57894737]]\n"
     ]
    }
   ],
   "source": [
    "c = np.linspace(1, 10, 20).reshape(-1, 4)\n",
    "print(c)\n",
    "print(c[1:, [3,2,1,0]])"
   ]
  },
  {
   "cell_type": "markdown",
   "id": "df649876",
   "metadata": {},
   "source": [
    "关于numpy进行计算的一些操作练习"
   ]
  },
  {
   "cell_type": "code",
   "execution_count": 32,
   "id": "b0d12ccd",
   "metadata": {},
   "outputs": [
    {
     "name": "stdout",
     "output_type": "stream",
     "text": [
      "[1 2 3 4] <class 'numpy.ndarray'>\n",
      "[2 3 4 5]\n"
     ]
    }
   ],
   "source": [
    "li = [1, 2, 3, 4]\n",
    "a = np.array(li)\n",
    "print(a, type(a))\n",
    "print(a+1)"
   ]
  },
  {
   "cell_type": "code",
   "execution_count": 33,
   "id": "a786d86d",
   "metadata": {},
   "outputs": [
    {
     "name": "stdout",
     "output_type": "stream",
     "text": [
      "[3 5 7 9]\n"
     ]
    }
   ],
   "source": [
    "# 数组对应元素相加\n",
    "b = np.array([2, 3, 4, 5])\n",
    "print(a + b)       # [3 5 7 9]"
   ]
  },
  {
   "cell_type": "code",
   "execution_count": 34,
   "id": "e741931e",
   "metadata": {},
   "outputs": [
    {
     "name": "stdout",
     "output_type": "stream",
     "text": [
      "[ 2  6 12 20]\n"
     ]
    }
   ],
   "source": [
    "# 对应元素相乘\n",
    "print(a * b)       # [ 2  6 12 20]"
   ]
  },
  {
   "cell_type": "code",
   "execution_count": 35,
   "id": "8357c64f",
   "metadata": {},
   "outputs": [
    {
     "name": "stdout",
     "output_type": "stream",
     "text": [
      "[   1    8   81 1024]\n"
     ]
    }
   ],
   "source": [
    "# 对应元素乘方\n",
    "print(a ** b)"
   ]
  },
  {
   "cell_type": "code",
   "execution_count": 36,
   "id": "8fe1bf98",
   "metadata": {},
   "outputs": [
    {
     "name": "stdout",
     "output_type": "stream",
     "text": [
      "[0.5        0.66666667 0.75       0.8       ]\n"
     ]
    }
   ],
   "source": [
    "print(a / b)"
   ]
  },
  {
   "cell_type": "code",
   "execution_count": 37,
   "id": "a74940cf",
   "metadata": {},
   "outputs": [
    {
     "name": "stdout",
     "output_type": "stream",
     "text": [
      "[[ 0  1  2  3  4]\n",
      " [ 5  6  7  8  9]\n",
      " [10 11 12 13 14]\n",
      " [15 16 17 18 19]]\n",
      "[1 2 3 4 5]\n"
     ]
    }
   ],
   "source": [
    "a = np.arange(20).reshape(4, 5)\n",
    "b = np.arange(1,6)\n",
    "print(a)\n",
    "print(b)"
   ]
  },
  {
   "cell_type": "code",
   "execution_count": 41,
   "id": "416723c8",
   "metadata": {},
   "outputs": [
    {
     "name": "stdout",
     "output_type": "stream",
     "text": [
      "[[ 0  2  6 12 20]\n",
      " [ 5 12 21 32 45]\n",
      " [10 22 36 52 70]\n",
      " [15 32 51 72 95]]\n",
      "[[ 0.          0.5         0.66666667  0.75        0.8       ]\n",
      " [ 5.          3.          2.33333333  2.          1.8       ]\n",
      " [10.          5.5         4.          3.25        2.8       ]\n",
      " [15.          8.          5.66666667  4.5         3.8       ]]\n",
      "[[ 1  3  5  7  9]\n",
      " [ 6  8 10 12 14]\n",
      " [11 13 15 17 19]\n",
      " [16 18 20 22 24]]\n",
      "[[-1 -1 -1 -1 -1]\n",
      " [ 4  4  4  4  4]\n",
      " [ 9  9  9  9  9]\n",
      " [14 14 14 14 14]]\n"
     ]
    }
   ],
   "source": [
    "print(a*b)\n",
    "print(a/b)\n",
    "print(a+b)\n",
    "print(a-b)"
   ]
  },
  {
   "cell_type": "markdown",
   "id": "a6c2194e",
   "metadata": {},
   "source": [
    "## pandas基本用法"
   ]
  },
  {
   "cell_type": "code",
   "execution_count": 42,
   "id": "c8b9e689",
   "metadata": {},
   "outputs": [],
   "source": [
    "import pandas as pd"
   ]
  },
  {
   "cell_type": "markdown",
   "id": "54138153",
   "metadata": {},
   "source": [
    "DataFrame就是一个SQL的表格Table\n",
    "张量：二维矩阵即为二维张量\n",
    "一张RGB图是张量\n",
    "一个DataFrame 可以被表示成一个json, 也可以被表示成csv,可以被json所初始化"
   ]
  },
  {
   "cell_type": "code",
   "execution_count": 43,
   "id": "59e5bb9a",
   "metadata": {},
   "outputs": [],
   "source": [
    "data = {\n",
    "    'name': ['Alice', 'Bob', 'Charles', 'David', 'Eric'],\n",
    "    'year': [2017, 2017, 2017, 2017,2017],\n",
    "    'salary': [40000, 24000, 31000, 20000, 30000],\n",
    "    'pair':[{'a':1},{'a':2},{'a':3},{'a':4},{'a':5}]\n",
    "}"
   ]
  },
  {
   "cell_type": "code",
   "execution_count": 44,
   "id": "1383ff26",
   "metadata": {},
   "outputs": [
    {
     "name": "stdout",
     "output_type": "stream",
     "text": [
      "      name  year  salary      pair\n",
      "0    Alice  2017   40000  {'a': 1}\n",
      "1      Bob  2017   24000  {'a': 2}\n",
      "2  Charles  2017   31000  {'a': 3}\n",
      "3    David  2017   20000  {'a': 4}\n",
      "4     Eric  2017   30000  {'a': 5}\n"
     ]
    }
   ],
   "source": [
    "d = pd.DataFrame(data)\n",
    "print(d)"
   ]
  },
  {
   "cell_type": "code",
   "execution_count": 47,
   "id": "372c1268",
   "metadata": {},
   "outputs": [
    {
     "data": {
      "text/plain": [
       "0      Alice\n",
       "1        Bob\n",
       "2    Charles\n",
       "3      David\n",
       "4       Eric\n",
       "Name: name, dtype: object"
      ]
     },
     "execution_count": 47,
     "metadata": {},
     "output_type": "execute_result"
    }
   ],
   "source": [
    "d['name']"
   ]
  },
  {
   "cell_type": "code",
   "execution_count": 46,
   "id": "9c69db97",
   "metadata": {},
   "outputs": [
    {
     "data": {
      "text/plain": [
       "0    40000\n",
       "1    24000\n",
       "2    31000\n",
       "3    20000\n",
       "4    30000\n",
       "Name: salary, dtype: int64"
      ]
     },
     "execution_count": 46,
     "metadata": {},
     "output_type": "execute_result"
    }
   ],
   "source": [
    "d.salary"
   ]
  },
  {
   "cell_type": "code",
   "execution_count": 49,
   "id": "49939939",
   "metadata": {},
   "outputs": [
    {
     "name": "stdout",
     "output_type": "stream",
     "text": [
      "<class 'pandas.core.series.Series'>\n"
     ]
    },
    {
     "data": {
      "text/plain": [
       "[40000, 24000, 31000, 20000, 30000]"
      ]
     },
     "execution_count": 49,
     "metadata": {},
     "output_type": "execute_result"
    }
   ],
   "source": [
    "print(type(d.salary))\n",
    "d.salary.tolist()"
   ]
  },
  {
   "cell_type": "code",
   "execution_count": 50,
   "id": "f7835be4",
   "metadata": {},
   "outputs": [
    {
     "data": {
      "text/plain": [
       "31000"
      ]
     },
     "execution_count": 50,
     "metadata": {},
     "output_type": "execute_result"
    }
   ],
   "source": [
    "d.salary[2]"
   ]
  },
  {
   "cell_type": "code",
   "execution_count": 51,
   "id": "3ace3c75",
   "metadata": {},
   "outputs": [
    {
     "data": {
      "text/html": [
       "<div>\n",
       "<style scoped>\n",
       "    .dataframe tbody tr th:only-of-type {\n",
       "        vertical-align: middle;\n",
       "    }\n",
       "\n",
       "    .dataframe tbody tr th {\n",
       "        vertical-align: top;\n",
       "    }\n",
       "\n",
       "    .dataframe thead th {\n",
       "        text-align: right;\n",
       "    }\n",
       "</style>\n",
       "<table border=\"1\" class=\"dataframe\">\n",
       "  <thead>\n",
       "    <tr style=\"text-align: right;\">\n",
       "      <th></th>\n",
       "      <th>name</th>\n",
       "      <th>year</th>\n",
       "      <th>salary</th>\n",
       "      <th>pair</th>\n",
       "    </tr>\n",
       "  </thead>\n",
       "  <tbody>\n",
       "    <tr>\n",
       "      <th>0</th>\n",
       "      <td>Alice</td>\n",
       "      <td>2017</td>\n",
       "      <td>40000</td>\n",
       "      <td>{'a': 1}</td>\n",
       "    </tr>\n",
       "    <tr>\n",
       "      <th>2</th>\n",
       "      <td>Charles</td>\n",
       "      <td>2017</td>\n",
       "      <td>31000</td>\n",
       "      <td>{'a': 3}</td>\n",
       "    </tr>\n",
       "  </tbody>\n",
       "</table>\n",
       "</div>"
      ],
      "text/plain": [
       "      name  year  salary      pair\n",
       "0    Alice  2017   40000  {'a': 1}\n",
       "2  Charles  2017   31000  {'a': 3}"
      ]
     },
     "execution_count": 51,
     "metadata": {},
     "output_type": "execute_result"
    }
   ],
   "source": [
    "d.query('salary>30000')\n"
   ]
  },
  {
   "cell_type": "code",
   "execution_count": null,
   "id": "62710d1b",
   "metadata": {},
   "outputs": [],
   "source": []
  }
 ],
 "metadata": {
  "kernelspec": {
   "display_name": "Python 3",
   "language": "python",
   "name": "python3"
  },
  "language_info": {
   "codemirror_mode": {
    "name": "ipython",
    "version": 3
   },
   "file_extension": ".py",
   "mimetype": "text/x-python",
   "name": "python",
   "nbconvert_exporter": "python",
   "pygments_lexer": "ipython3",
   "version": "3.6.13"
  }
 },
 "nbformat": 4,
 "nbformat_minor": 5
}
