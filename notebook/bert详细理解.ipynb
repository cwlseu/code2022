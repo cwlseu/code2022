{
 "cells": [
  {
   "cell_type": "markdown",
   "id": "df03e652",
   "metadata": {},
   "source": [
    "dropout: 随机对某些元素进行置为零，然后对于所有元素进行归一化。"
   ]
  },
  {
   "cell_type": "code",
   "execution_count": 2,
   "id": "e87c5352",
   "metadata": {},
   "outputs": [
    {
     "name": "stdout",
     "output_type": "stream",
     "text": [
      "tensor([[ 0.1463,  2.1831,  0.8373, -2.1122,  1.5115],\n",
      "        [ 0.8148, -1.8579,  0.1920,  0.4060,  0.7375],\n",
      "        [ 1.6769,  0.7781, -0.3822,  0.8399,  1.4824],\n",
      "        [-0.5347, -0.5846,  2.6624, -0.6152, -0.5088],\n",
      "        [ 0.4921,  0.5469,  2.0140,  0.3639,  0.2596],\n",
      "        [ 1.6158,  0.1744, -0.4454,  1.0953, -0.9768],\n",
      "        [ 0.1593,  2.0567,  1.5842, -1.5727,  2.0610],\n",
      "        [ 0.6420,  0.7703,  1.2750,  0.7662, -1.2577],\n",
      "        [-2.8195, -0.1874,  0.2236,  1.0318,  0.3654],\n",
      "        [-1.0065, -0.2498, -0.3163,  0.4136,  1.1886]])\n",
      "tensor([[ 0.1829,  0.0000,  1.0466, -2.6402,  1.8893],\n",
      "        [ 1.0185, -2.3223,  0.2400,  0.5075,  0.0000],\n",
      "        [ 0.0000,  0.9726, -0.0000,  1.0499,  1.8530],\n",
      "        [-0.6683, -0.7308,  3.3280, -0.7689, -0.0000],\n",
      "        [ 0.6151,  0.6836,  2.5175,  0.4549,  0.0000],\n",
      "        [ 2.0197,  0.0000, -0.5568,  1.3691, -0.0000],\n",
      "        [ 0.0000,  2.5709,  1.9802, -1.9659,  2.5763],\n",
      "        [ 0.8025,  0.9629,  0.0000,  0.9578, -0.0000],\n",
      "        [-3.5244, -0.2342,  0.0000,  0.0000,  0.0000],\n",
      "        [-0.0000, -0.3122, -0.3953,  0.5170,  1.4857]])\n",
      "tensor([[False,  True, False,  True, False],\n",
      "        [False,  True, False, False,  True],\n",
      "        [ True, False, False, False, False],\n",
      "        [ True,  True, False,  True, False],\n",
      "        [False, False, False, False,  True],\n",
      "        [False,  True,  True, False, False],\n",
      "        [ True, False, False,  True, False],\n",
      "        [False, False,  True, False, False],\n",
      "        [ True,  True,  True,  True,  True],\n",
      "        [False,  True,  True, False, False]])\n"
     ]
    }
   ],
   "source": [
    "import torch\n",
    "import torch.nn as nn\n",
    "\n",
    "m = nn.Dropout(p=0.2)\n",
    "input = torch.randn(10, 5)\n",
    "output = m(input)\n",
    "print(input)\n",
    "print(output)\n",
    "diff = (input - output) > 0\n",
    "print(diff)"
   ]
  },
  {
   "cell_type": "code",
   "execution_count": null,
   "id": "ffc773e3",
   "metadata": {},
   "outputs": [],
   "source": []
  }
 ],
 "metadata": {
  "kernelspec": {
   "display_name": "Python 3",
   "language": "python",
   "name": "python3"
  },
  "language_info": {
   "codemirror_mode": {
    "name": "ipython",
    "version": 3
   },
   "file_extension": ".py",
   "mimetype": "text/x-python",
   "name": "python",
   "nbconvert_exporter": "python",
   "pygments_lexer": "ipython3",
   "version": "3.6.13"
  }
 },
 "nbformat": 4,
 "nbformat_minor": 5
}
